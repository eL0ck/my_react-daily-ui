{
 "cells": [
  {
   "cell_type": "markdown",
   "metadata": {},
   "source": [
    "# Testing ES6 features\n"
   ]
  },
  {
   "cell_type": "code",
   "execution_count": 1,
   "metadata": {},
   "outputs": [
    {
     "data": {
      "text/plain": [
       "'v8.5.0'"
      ]
     },
     "execution_count": 1,
     "metadata": {},
     "output_type": "execute_result"
    }
   ],
   "source": [
    "process.version"
   ]
  },
  {
   "cell_type": "code",
   "execution_count": 2,
   "metadata": {},
   "outputs": [
    {
     "data": {
      "text/plain": [
       "undefined"
      ]
     },
     "execution_count": 2,
     "metadata": {},
     "output_type": "execute_result"
    }
   ],
   "source": [
    "let d = {\"first\": 1, \"sec\": 2, \"third\": 3}"
   ]
  },
  {
   "cell_type": "code",
   "execution_count": 3,
   "metadata": {},
   "outputs": [
    {
     "data": {
      "text/plain": [
       "{ ninth: 9, first: 1, sec: 2, third: 3 }"
      ]
     },
     "execution_count": 3,
     "metadata": {},
     "output_type": "execute_result"
    }
   ],
   "source": [
    "f = {'ninth': 9, ...d}"
   ]
  },
  {
   "cell_type": "markdown",
   "metadata": {},
   "source": [
    "# On with the demo"
   ]
  },
  {
   "cell_type": "code",
   "execution_count": 4,
   "metadata": {},
   "outputs": [
    {
     "data": {
      "text/plain": [
       "undefined"
      ]
     },
     "execution_count": 4,
     "metadata": {},
     "output_type": "execute_result"
    }
   ],
   "source": [
    "const MovieDB = require('moviedb')('838f6976dbdff9ce8ec7aa0b31424e11');\n",
    "//import {searchMovie} from 'moviedb'"
   ]
  },
  {
   "cell_type": "code",
   "execution_count": 5,
   "metadata": {},
   "outputs": [
    {
     "data": {
      "text/plain": [
       "MovieDB { api_key: '838f6976dbdff9ce8ec7aa0b31424e11' }"
      ]
     },
     "execution_count": 5,
     "metadata": {},
     "output_type": "execute_result"
    },
    {
     "name": "stdout",
     "output_type": "stream",
     "text": [
      "{ page: 1,\n",
      "  total_results: 15,\n",
      "  total_pages: 1,\n",
      "  results: \n",
      "   [ { vote_count: 2313,\n",
      "       id: 35,\n",
      "       video: false,\n",
      "       vote_average: 6.9,\n",
      "       title: 'The Simpsons Movie',\n",
      "       popularity: 27.595226,\n",
      "       poster_path: '/eCytnEriVur3rT47NWfkgPXD9qs.jpg',\n",
      "       original_language: 'en',\n",
      "       original_title: 'The Simpsons Movie',\n",
      "       genre_ids: [Array],\n",
      "       backdrop_path: '/4RaoQCwliLvbokgpFzMXvSznC0h.jpg',\n",
      "       adult: false,\n",
      "       overview: 'After Homer accidentally pollutes the town\\'s water supply, Springfield is encased in a gigantic dome by the EPA and the Simpsons are declared fugitives.',\n",
      "       release_date: '2007-07-25' },\n",
      "     { vote_count: 7,\n",
      "       id: 383887,\n",
      "       video: false,\n",
      "       vote_average: 8.1,\n",
      "       title: 'The Simpsons - Viva Los Simpsons',\n",
      "       popularity: 1.152457,\n",
      "       poster_path: '/FtQir4rZyiaSQ2LZWPrh8Hk5ca.jpg',\n",
      "       original_language: 'en',\n",
      "       original_title: 'The Simpsons - Viva Los Simpsons',\n",
      "       genre_ids: [],\n",
      "       backdrop_path: '/bSteszE2HtIj7xwvE2dxkJ54FG2.jpg',\n",
      "       adult: false,\n",
      "       overview: 'Homer at the bat / Springfield / Homie the clown / Viva Ned Flanders',\n",
      "       release_date: '2005-01-01' },\n",
      "     { vote_count: 0,\n",
      "       id: 464779,\n",
      "       video: true,\n",
      "       vote_average: 0,\n",
      "       title: 'The Simpsons - Christmas',\n",
      "       popularity: 1,\n",
      "       poster_path: '/yd5IZh1vpcd8mid48tyUXJXxdQY.jpg',\n",
      "       original_language: 'en',\n",
      "       original_title: 'The Simpsons - Christmas',\n",
      "       genre_ids: [],\n",
      "       backdrop_path: null,\n",
      "       adult: false,\n",
      "       overview: '',\n",
      "       release_date: '' },\n",
      "     { vote_count: 1,\n",
      "       id: 321888,\n",
      "       video: false,\n",
      "       vote_average: 6.5,\n",
      "       title: 'Simpsons Gone Wild',\n",
      "       popularity: 1.037692,\n",
      "       poster_path: '/6eaWOghHZEd3oIlJRRN1hw5srwQ.jpg',\n",
      "       original_language: 'en',\n",
      "       original_title: 'Simpsons Gone Wild',\n",
      "       genre_ids: [],\n",
      "       backdrop_path: null,\n",
      "       adult: false,\n",
      "       overview: 'Everyone\\'s favorite animated family, The Simpsons, gets the laughs rolling in these four party-themed episodes. \"Homer\\'s Night Out\" finds Bart causing mischief with a CIA spy camera, while in \"Homer the Moe,\" Homer stands in for Moe while he\\'s away. In \"Sunday Cruddy Sunday,\" Homer and his friends find out they\\'ve been sold fake tickets to a game, and in \"The Mansion Family,\" Homer house-sits for Mr. Burns.',\n",
      "       release_date: '2004-09-14' },\n",
      "     { vote_count: 0,\n",
      "       id: 447517,\n",
      "       video: false,\n",
      "       vote_average: 0,\n",
      "       title: 'The Simpsons Ride',\n",
      "       popularity: 1.004708,\n",
      "       poster_path: '/xJNbdpd8Amz89BNNAPZoU8PzBb.jpg',\n",
      "       original_language: 'en',\n",
      "       original_title: 'The Simpsons Ride',\n",
      "       genre_ids: [Array],\n",
      "       backdrop_path: null,\n",
      "       adult: false,\n",
      "       overview: 'Springfield\\'s theme park Krustyland, run by Krusty the Clown, is opening it\\'s newest roller coaster, the upsy-downsy spins-aroundsy teen-operated thrill ride is opening, and in this simulator ride, you\\'re going to be the first to ride it, along with the Simpsons family! However, Sideshow Bob has escaped from prison and has taken over the park, and soon you\\'re on a wild adventure crashing through the Krusty\\'s attractions, with Sideshow Bob doing anything to destroy you.',\n",
      "       release_date: '2008-05-15' },\n",
      "     { vote_count: 1,\n",
      "       id: 453490,\n",
      "       video: false,\n",
      "       vote_average: 6,\n",
      "       title: 'The Simpsons: Film Noir (TV)',\n",
      "       popularity: 1.050475,\n",
      "       poster_path: null,\n",
      "       original_language: 'xx',\n",
      "       original_title: 'The Simpsons: Film Noir (TV)',\n",
      "       genre_ids: [Array],\n",
      "       backdrop_path: null,\n",
      "       adult: false,\n",
      "       overview: '',\n",
      "       release_date: '2013-06-20' },\n",
      "     { vote_count: 0,\n",
      "       id: 383886,\n",
      "       video: false,\n",
      "       vote_average: 0,\n",
      "       title: 'The Simpsons - Risky Business',\n",
      "       popularity: 1.002356,\n",
      "       poster_path: '/2GbY2zz7e0qUQobKFbeXCbk9TTf.jpg',\n",
      "       original_language: 'en',\n",
      "       original_title: 'The Simpsons - Risky Business',\n",
      "       genre_ids: [],\n",
      "       backdrop_path: null,\n",
      "       adult: false,\n",
      "       overview: 'Reality Bites / Homer the Smithers / Deep space Homer / Marge gets a job',\n",
      "       release_date: '2003-01-01' },\n",
      "     { vote_count: 0,\n",
      "       id: 388670,\n",
      "       video: false,\n",
      "       vote_average: 0,\n",
      "       title: 'The Simpsons - Around the World in 80 D\\'Ohs',\n",
      "       popularity: 1.003534,\n",
      "       poster_path: '/4JLaNvqgpEePvc6EyDh4a7LYHpd.jpg',\n",
      "       original_language: 'de',\n",
      "       original_title: 'The Simpsons - Around the World in 80 D\\'Ohs',\n",
      "       genre_ids: [Array],\n",
      "       backdrop_path: '/jHFHgj8NPF7qtW9BsYzjflqczNB.jpg',\n",
      "       adult: false,\n",
      "       overview: '',\n",
      "       release_date: '2007-03-27' },\n",
      "     { vote_count: 0,\n",
      "       id: 388667,\n",
      "       video: false,\n",
      "       vote_average: 0,\n",
      "       title: 'Bart Wars - The Simpsons Strike Back',\n",
      "       popularity: 1.00253,\n",
      "       poster_path: '/mcsAIdhQZmadbhzM2bkj6sZGFDA.jpg',\n",
      "       original_language: 'de',\n",
      "       original_title: 'Bart Wars - The Simpsons Strike Back',\n",
      "       genre_ids: [Array],\n",
      "       backdrop_path: '/75vw07OvAuzeJzOfMAKnZRppaID.jpg',\n",
      "       adult: false,\n",
      "       overview: '',\n",
      "       release_date: '2004-06-24' },\n",
      "     { vote_count: 0,\n",
      "       id: 431247,\n",
      "       video: false,\n",
      "       vote_average: 0,\n",
      "       title: 'The Simpsons couch gag [YOU\\'RE NEXT]',\n",
      "       popularity: 1.043662,\n",
      "       poster_path: '/h2Y31qfmTbr8PMNUaFdDr6Qj76U.jpg',\n",
      "       original_language: 'en',\n",
      "       original_title: 'The Simpsons couch gag [YOU\\'RE NEXT]',\n",
      "       genre_ids: [Array],\n",
      "       backdrop_path: null,\n",
      "       adult: false,\n",
      "       overview: 'A Short Film Showing The Bullies Of \\'Bart Simpson\\' Brutally Murdering Him And His Family.',\n",
      "       release_date: '2015-12-17' },\n",
      "     { vote_count: 1,\n",
      "       id: 453520,\n",
      "       video: false,\n",
      "       vote_average: 6,\n",
      "       title: 'The Simpsons: Bill Plympton Couch Gag (TV)',\n",
      "       popularity: 1.04617,\n",
      "       poster_path: null,\n",
      "       original_language: 'xx',\n",
      "       original_title: 'The Simpsons: Bill Plympton Couch Gag (TV)',\n",
      "       genre_ids: [Array],\n",
      "       backdrop_path: null,\n",
      "       adult: false,\n",
      "       overview: '',\n",
      "       release_date: '2012-03-22' },\n",
      "     { vote_count: 5,\n",
      "       id: 375848,\n",
      "       video: false,\n",
      "       vote_average: 7,\n",
      "       title: 'The Simpsons 20th Anniversary Special – In 3-D! On Ice!',\n",
      "       popularity: 1.182228,\n",
      "       poster_path: null,\n",
      "       original_language: 'en',\n",
      "       original_title: 'The Simpsons 20th Anniversary Special – In 3-D! On Ice!',\n",
      "       genre_ids: [Array],\n",
      "       backdrop_path: null,\n",
      "       adult: false,\n",
      "       overview: 'The Simpsons 20th Anniversary Special – In 3-D! On Ice! is a documentary special that examined the \"cultural phenomenon\" of the American animated television series The Simpsons.',\n",
      "       release_date: '2010-01-10' },\n",
      "     { vote_count: 1,\n",
      "       id: 327689,\n",
      "       video: true,\n",
      "       vote_average: 2,\n",
      "       title: 'The Simpsons - Kiss and Tell: The Story of Their Love',\n",
      "       popularity: 1.038823,\n",
      "       poster_path: '/1rZKHlMyV4lSKef9u4l6uGrgJDc.jpg',\n",
      "       original_language: 'de',\n",
      "       original_title: 'The Simpsons - Kiss and Tell: The Story of Their Love',\n",
      "       genre_ids: [],\n",
      "       backdrop_path: '/o5IYPn1y7HjlKBcB0xRX8evdjBo.jpg',\n",
      "       adult: false,\n",
      "       overview: '',\n",
      "       release_date: '2006-02-06' },\n",
      "     { vote_count: 0,\n",
      "       id: 453460,\n",
      "       video: false,\n",
      "       vote_average: 0,\n",
      "       title: 'Film Noir, The Simpsons Couch Gag Opening by Bill Plympton (TV)',\n",
      "       popularity: 1.000001,\n",
      "       poster_path: null,\n",
      "       original_language: 'en',\n",
      "       original_title: 'Film Noir, The Simpsons Couch Gag Opening by Bill Plympton (TV)',\n",
      "       genre_ids: [Array],\n",
      "       backdrop_path: null,\n",
      "       adult: false,\n",
      "       overview: '',\n",
      "       release_date: '' },\n",
      "     { vote_count: 87,\n",
      "       id: 116440,\n",
      "       video: false,\n",
      "       vote_average: 6.8,\n",
      "       title: 'Maggie Simpson in The Longest Daycare',\n",
      "       popularity: 4.452072,\n",
      "       poster_path: '/mxvh2h7SQe1s7Y4BspetPpIevjs.jpg',\n",
      "       original_language: 'en',\n",
      "       original_title: 'Maggie Simpson in The Longest Daycare',\n",
      "       genre_ids: [Array],\n",
      "       backdrop_path: '/iRq40yPgSkEYrNaD1rOWMhChe07.jpg',\n",
      "       adult: false,\n",
      "       overview: 'Maggie Simpson returns to the Ayn Rand School for Tots. There, Maggie\\'s future prospects are deemed to be minimal, so she is left in one of the daycare\\'s less enjoyable rooms, with just a butterfly for company.',\n",
      "       release_date: '2012-07-12' } ] }\n"
     ]
    }
   ],
   "source": [
    "var result = null\n",
    "MovieDB.searchMovie({ query: 'Simpsons' }, (err, res) => {\n",
    "    number_results = res.total_results\n",
    "    result = res.results\n",
    "    console.log(res);\n",
    "});"
   ]
  },
  {
   "cell_type": "code",
   "execution_count": null,
   "metadata": {},
   "outputs": [],
   "source": [
    "number_results"
   ]
  },
  {
   "cell_type": "code",
   "execution_count": null,
   "metadata": {},
   "outputs": [],
   "source": [
    "result"
   ]
  },
  {
   "cell_type": "code",
   "execution_count": null,
   "metadata": {
    "collapsed": true
   },
   "outputs": [],
   "source": []
  }
 ],
 "metadata": {
  "kernelspec": {
   "display_name": "Javascript (Node.js)",
   "language": "javascript",
   "name": "javascript"
  },
  "language_info": {
   "file_extension": ".js",
   "mimetype": "application/javascript",
   "name": "javascript",
   "version": "8.5.0"
  }
 },
 "nbformat": 4,
 "nbformat_minor": 2
}
